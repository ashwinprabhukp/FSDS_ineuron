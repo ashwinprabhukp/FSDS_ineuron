{
 "cells": [
  {
   "cell_type": "code",
   "execution_count": 1,
   "id": "a72348e4",
   "metadata": {},
   "outputs": [],
   "source": [
    "a = \"I am working in some thing new\""
   ]
  },
  {
   "cell_type": "code",
   "execution_count": 2,
   "id": "4ff467bd",
   "metadata": {},
   "outputs": [
    {
     "data": {
      "text/plain": [
       "'I am working in some thing new'"
      ]
     },
     "execution_count": 2,
     "metadata": {},
     "output_type": "execute_result"
    }
   ],
   "source": [
    "a"
   ]
  },
  {
   "cell_type": "code",
   "execution_count": 3,
   "id": "2ee15660",
   "metadata": {},
   "outputs": [
    {
     "data": {
      "text/plain": [
       "2"
      ]
     },
     "execution_count": 3,
     "metadata": {},
     "output_type": "execute_result"
    }
   ],
   "source": [
    "a.find(\"am\")"
   ]
  },
  {
   "cell_type": "code",
   "execution_count": 4,
   "id": "3fb4c58b",
   "metadata": {},
   "outputs": [
    {
     "data": {
      "text/plain": [
       "1"
      ]
     },
     "execution_count": 4,
     "metadata": {},
     "output_type": "execute_result"
    }
   ],
   "source": [
    "a.count('I')"
   ]
  },
  {
   "cell_type": "code",
   "execution_count": 5,
   "id": "47462da9",
   "metadata": {},
   "outputs": [],
   "source": [
    "xyz = a.split('i')"
   ]
  },
  {
   "cell_type": "code",
   "execution_count": 6,
   "id": "d2f5e289",
   "metadata": {},
   "outputs": [
    {
     "data": {
      "text/plain": [
       "['I am work', 'ng ', 'n some th', 'ng new']"
      ]
     },
     "execution_count": 6,
     "metadata": {},
     "output_type": "execute_result"
    }
   ],
   "source": [
    "xyz"
   ]
  },
  {
   "cell_type": "code",
   "execution_count": 7,
   "id": "f0a8aa79",
   "metadata": {},
   "outputs": [
    {
     "data": {
      "text/plain": [
       "'i AM WORKING IN SOME THING NEW'"
      ]
     },
     "execution_count": 7,
     "metadata": {},
     "output_type": "execute_result"
    }
   ],
   "source": [
    "a.swapcase()"
   ]
  },
  {
   "cell_type": "code",
   "execution_count": 8,
   "id": "527eee96",
   "metadata": {},
   "outputs": [],
   "source": [
    " b = \"god is great!\""
   ]
  },
  {
   "cell_type": "code",
   "execution_count": 9,
   "id": "a914c58d",
   "metadata": {},
   "outputs": [],
   "source": [
    "c=\"$$$\""
   ]
  },
  {
   "cell_type": "code",
   "execution_count": 10,
   "id": "3ce61312",
   "metadata": {},
   "outputs": [
    {
     "data": {
      "text/plain": [
       "'$god is great!$god is great!$'"
      ]
     },
     "execution_count": 10,
     "metadata": {},
     "output_type": "execute_result"
    }
   ],
   "source": [
    "b.join(c)"
   ]
  },
  {
   "cell_type": "code",
   "execution_count": 11,
   "id": "4f075ca0",
   "metadata": {},
   "outputs": [],
   "source": [
    "d = \"Earth is beautiful\""
   ]
  },
  {
   "cell_type": "code",
   "execution_count": 12,
   "id": "f2bc5393",
   "metadata": {},
   "outputs": [
    {
     "data": {
      "text/plain": [
       "'$$$$$$$$$$$$$$$$Earth is beautiful$$$$$$$$$$$$$$$$'"
      ]
     },
     "execution_count": 12,
     "metadata": {},
     "output_type": "execute_result"
    }
   ],
   "source": [
    "d.center(50, '$')"
   ]
  },
  {
   "cell_type": "code",
   "execution_count": 13,
   "id": "65630fa8",
   "metadata": {},
   "outputs": [],
   "source": [
    "e = \"  We are all human beings, be kind to each other :)\""
   ]
  },
  {
   "cell_type": "code",
   "execution_count": 14,
   "id": "a81f31cd",
   "metadata": {},
   "outputs": [
    {
     "data": {
      "text/plain": [
       "'  We are all human beings, be kind to each other '"
      ]
     },
     "execution_count": 14,
     "metadata": {},
     "output_type": "execute_result"
    }
   ],
   "source": [
    "e.strip(':)')"
   ]
  },
  {
   "cell_type": "code",
   "execution_count": 15,
   "id": "4a4b5fba",
   "metadata": {},
   "outputs": [
    {
     "data": {
      "text/plain": [
       "'  We are all human beings, be kind to each other :)'"
      ]
     },
     "execution_count": 15,
     "metadata": {},
     "output_type": "execute_result"
    }
   ],
   "source": [
    "e"
   ]
  },
  {
   "cell_type": "code",
   "execution_count": 16,
   "id": "c5f93cbe",
   "metadata": {},
   "outputs": [
    {
     "data": {
      "text/plain": [
       "False"
      ]
     },
     "execution_count": 16,
     "metadata": {},
     "output_type": "execute_result"
    }
   ],
   "source": [
    "e.isupper()"
   ]
  },
  {
   "cell_type": "code",
   "execution_count": 17,
   "id": "8f6a3fad",
   "metadata": {},
   "outputs": [
    {
     "data": {
      "text/plain": [
       "False"
      ]
     },
     "execution_count": 17,
     "metadata": {},
     "output_type": "execute_result"
    }
   ],
   "source": [
    "e.islower()"
   ]
  },
  {
   "cell_type": "code",
   "execution_count": 18,
   "id": "12c6b3fa",
   "metadata": {},
   "outputs": [
    {
     "data": {
      "text/plain": [
       "False"
      ]
     },
     "execution_count": 18,
     "metadata": {},
     "output_type": "execute_result"
    }
   ],
   "source": [
    "e.isspace()"
   ]
  },
  {
   "cell_type": "code",
   "execution_count": 19,
   "id": "532d9801",
   "metadata": {},
   "outputs": [],
   "source": [
    "f = '122;'"
   ]
  },
  {
   "cell_type": "code",
   "execution_count": 20,
   "id": "5269e94a",
   "metadata": {},
   "outputs": [
    {
     "data": {
      "text/plain": [
       "False"
      ]
     },
     "execution_count": 20,
     "metadata": {},
     "output_type": "execute_result"
    }
   ],
   "source": [
    "f.isdigit()"
   ]
  },
  {
   "cell_type": "code",
   "execution_count": 21,
   "id": "e10165ef",
   "metadata": {},
   "outputs": [],
   "source": [
    "xyz.append([2,3,5,6,9])"
   ]
  },
  {
   "cell_type": "code",
   "execution_count": 22,
   "id": "b088af28",
   "metadata": {},
   "outputs": [
    {
     "data": {
      "text/plain": [
       "['I am work', 'ng ', 'n some th', 'ng new', [2, 3, 5, 6, 9]]"
      ]
     },
     "execution_count": 22,
     "metadata": {},
     "output_type": "execute_result"
    }
   ],
   "source": [
    "xyz"
   ]
  },
  {
   "cell_type": "code",
   "execution_count": 23,
   "id": "ce708772",
   "metadata": {},
   "outputs": [],
   "source": [
    "xyz.extend([9,8,3,5])"
   ]
  },
  {
   "cell_type": "code",
   "execution_count": 24,
   "id": "88a44e13",
   "metadata": {},
   "outputs": [
    {
     "data": {
      "text/plain": [
       "['I am work', 'ng ', 'n some th', 'ng new', [2, 3, 5, 6, 9], 9, 8, 3, 5]"
      ]
     },
     "execution_count": 24,
     "metadata": {},
     "output_type": "execute_result"
    }
   ],
   "source": [
    "xyz"
   ]
  },
  {
   "cell_type": "code",
   "execution_count": 25,
   "id": "dd4b3da5",
   "metadata": {},
   "outputs": [
    {
     "data": {
      "text/plain": [
       "['I am work',\n",
       " 'ng ',\n",
       " 'n some th',\n",
       " 'ng new',\n",
       " [2, 3, 5, 6, 9],\n",
       " 9,\n",
       " 8,\n",
       " 3,\n",
       " 5,\n",
       " 'I am work',\n",
       " 'ng ',\n",
       " 'n some th',\n",
       " 'ng new',\n",
       " [2, 3, 5, 6, 9],\n",
       " 9,\n",
       " 8,\n",
       " 3,\n",
       " 5]"
      ]
     },
     "execution_count": 25,
     "metadata": {},
     "output_type": "execute_result"
    }
   ],
   "source": [
    "xyz+xyz"
   ]
  },
  {
   "cell_type": "code",
   "execution_count": 36,
   "id": "c6f8c0b2",
   "metadata": {},
   "outputs": [],
   "source": [
    "abcd = [55,44,77]"
   ]
  },
  {
   "cell_type": "code",
   "execution_count": 37,
   "id": "1001db63",
   "metadata": {},
   "outputs": [],
   "source": [
    "abcd=abcd+list('Jai')"
   ]
  },
  {
   "cell_type": "code",
   "execution_count": 38,
   "id": "4a60c80a",
   "metadata": {},
   "outputs": [
    {
     "data": {
      "text/plain": [
       "['J', 'a', 'i']"
      ]
     },
     "execution_count": 38,
     "metadata": {},
     "output_type": "execute_result"
    }
   ],
   "source": [
    "list('Jai')"
   ]
  },
  {
   "cell_type": "code",
   "execution_count": 39,
   "id": "7bd942a3",
   "metadata": {},
   "outputs": [],
   "source": [
    "abcd=abcd + ['Jai']"
   ]
  },
  {
   "cell_type": "code",
   "execution_count": 40,
   "id": "da0615f5",
   "metadata": {},
   "outputs": [
    {
     "data": {
      "text/plain": [
       "'Jai'"
      ]
     },
     "execution_count": 40,
     "metadata": {},
     "output_type": "execute_result"
    }
   ],
   "source": [
    "abcd.pop()"
   ]
  }
 ],
 "metadata": {
  "kernelspec": {
   "display_name": "Python 3 (ipykernel)",
   "language": "python",
   "name": "python3"
  },
  "language_info": {
   "codemirror_mode": {
    "name": "ipython",
    "version": 3
   },
   "file_extension": ".py",
   "mimetype": "text/x-python",
   "name": "python",
   "nbconvert_exporter": "python",
   "pygments_lexer": "ipython3",
   "version": "3.9.12"
  }
 },
 "nbformat": 4,
 "nbformat_minor": 5
}
