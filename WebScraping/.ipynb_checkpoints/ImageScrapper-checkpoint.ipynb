{
 "cells": [
  {
   "cell_type": "code",
   "execution_count": 1,
   "id": "8b3089de",
   "metadata": {},
   "outputs": [],
   "source": [
    "import requests\n",
    "from bs4 import BeautifulSoup as bs\n",
    "from urllib.request import urlopen as uReq\n",
    "from selenium import webdriver\n",
    "import os\n",
    "import urllib"
   ]
  },
  {
   "cell_type": "code",
   "execution_count": 2,
   "id": "3ebbed22",
   "metadata": {},
   "outputs": [],
   "source": [
    "def fetch_image_urls(query: str, max_links_to_fetch: int, sleep_between_interactions: int = 1):\n",
    "\n",
    "    # build the flipkart query\n",
    "    search_url = \"https://www.flipkart.com/search?q=*{0}\"\n",
    "    \n",
    "    image_urls = set()\n",
    "    image_count = 0\n",
    "    results_start = 0\n",
    "    search_url = search_url.format(query).replace (\" \",\"%20\")\n",
    "    \n",
    "    while image_count < max_links_to_fetch-1:\n",
    "        search_page_html = build_beautifulsoup_object(search_url)\n",
    "        thumbnail_results = search_page_html.findAll(\"img\", {\"class\": \"_396cs4\"})\n",
    "        image_urls = image_urls.union(extract_image_urls(thumbnail_results))\n",
    "                \n",
    "        image_count = len(image_urls)\n",
    "        # Extract more images to meet the count\n",
    "        if image_count >= max_links_to_fetch:\n",
    "            print(f\"Found: {len(image_urls)} image links, done!\")\n",
    "            break\n",
    "        else:\n",
    "            print(\"Found:\", image_count, \"image links, looking for more ...\")\n",
    "            # Check if more search result pages available\n",
    "            if search_page_html.find(\"a\", {\"class\": \"_1LKTO3\"}):\n",
    "                if search_page_html.findAll(\"a\", {\"class\": \"_1LKTO3\"})[-1]['href'].find('http') > 0:\n",
    "                    search_url = search_page_html.findAll(\"a\", {\"class\": \"_1LKTO3\"})[-1]['href']\n",
    "                else:\n",
    "                    search_url = \"https://www.flipkart.com\" + search_page_html.findAll(\"a\", {\"class\": \"_1LKTO3\"})[-1]['href']\n",
    "            else:\n",
    "                print(\"Found:\", image_count, \"image links, no more available.\")\n",
    "                break;\n",
    "\n",
    "    return image_urls"
   ]
  },
  {
   "cell_type": "code",
   "execution_count": 3,
   "id": "4cb95620",
   "metadata": {},
   "outputs": [],
   "source": [
    "def extract_image_urls(thumbnail_results: list):\n",
    "    image_urls = set()\n",
    "    try:\n",
    "        for img in thumbnail_results:\n",
    "            # extract image urls\n",
    "            if img['src'] and 'http' in img['src']:\n",
    "                image_urls.add(img['src'])\n",
    "                \n",
    "    except Exception as e:\n",
    "        print(f\"ERROR - Extracting the image URLs - {e}\")\n",
    "    return image_urls"
   ]
  },
  {
   "cell_type": "code",
   "execution_count": 4,
   "id": "2fcce75a",
   "metadata": {},
   "outputs": [],
   "source": [
    "def build_beautifulsoup_object(url: str):\n",
    "    try:\n",
    "        # get all image thumbnail results\n",
    "        uClient = uReq(url)\n",
    "        flipkartPage = uClient.read()\n",
    "        uClient.close()\n",
    "        search_page_html = bs(flipkartPage, \"html.parser\")\n",
    "        \n",
    "    except Exception as e:\n",
    "        print(f\"ERROR - building the Beautiful Soup object {url} - {e}\")\n",
    "        \n",
    "    return search_page_html                               "
   ]
  },
  {
   "cell_type": "code",
   "execution_count": 5,
   "id": "0cc86cc2",
   "metadata": {},
   "outputs": [],
   "source": [
    "def download_image(folder_path:str,url:str, counter):\n",
    "    try:\n",
    "        image_content = requests.get(url).content\n",
    "\n",
    "    except Exception as e:\n",
    "        print(f\"ERROR - Could not download {url} - {e}\")\n",
    "\n",
    "    try:\n",
    "        f = open(os.path.join(folder_path, 'jpg' + \"_\" + str(counter) + \".jpg\"), 'wb')\n",
    "        f.write(image_content)\n",
    "        f.close()\n",
    "        print(f\"SUCCESS - saved {url} - as {folder_path}\")\n",
    "    except Exception as e:\n",
    "        print(f\"ERROR - Could not save {url} - {e}\")"
   ]
  },
  {
   "cell_type": "code",
   "execution_count": 6,
   "id": "1e665378",
   "metadata": {},
   "outputs": [],
   "source": [
    "def search_and_download(search_term: str, driver_path: str, target_path='./images', number_images=10):\n",
    "    target_folder = os.path.join(target_path, '_'.join(search_term.lower().split(' ')))\n",
    "\n",
    "    if not os.path.exists(target_folder):\n",
    "        os.makedirs(target_folder)\n",
    "\n",
    "    with webdriver.Chrome(executable_path=driver_path) as wd:\n",
    "        res = fetch_image_urls(search_term, number_images, sleep_between_interactions=0.5)\n",
    "\n",
    "    counter = 0\n",
    "    for elem in res:\n",
    "        download_image(target_folder, elem, counter)\n",
    "        counter += 1"
   ]
  },
  {
   "cell_type": "code",
   "execution_count": 7,
   "id": "8081157a",
   "metadata": {},
   "outputs": [
    {
     "name": "stderr",
     "output_type": "stream",
     "text": [
      "C:\\Users\\ashwin.prabhu\\AppData\\Local\\Temp\\ipykernel_4728\\2535471838.py:7: DeprecationWarning: executable_path has been deprecated, please pass in a Service object\n",
      "  with webdriver.Chrome(executable_path=driver_path) as wd:\n"
     ]
    },
    {
     "name": "stdout",
     "output_type": "stream",
     "text": [
      "Found: 6 image links, looking for more ...\n",
      "Found: 6 image links, no more available.\n",
      "SUCCESS - saved https://rukminim1.flixcart.com/image/312/312/kg8avm80/mobile/d/g/b/apple-iphone-12-mini-dummyapplefsn-original-imafwgbfhx4cfzue.jpeg?q=70 - as ./images\\iphone_14_mini\n",
      "SUCCESS - saved https://rukminim1.flixcart.com/image/312/312/kg8avm80/mobile/h/v/w/apple-iphone-12-mini-dummyapplefsn-original-imafwgb2zkjcwpre.jpeg?q=70 - as ./images\\iphone_14_mini\n",
      "SUCCESS - saved https://rukminim1.flixcart.com/image/312/312/ko0d6kw0/mobile/d/h/5/iphone-12-mini-mjqh3hn-a-apple-original-imag2k2xuuyfyusd.jpeg?q=70 - as ./images\\iphone_14_mini\n",
      "SUCCESS - saved https://rukminim1.flixcart.com/image/312/312/kg8avm80/mobile/s/h/f/apple-iphone-12-mini-dummyapplefsn-original-imafwgbfukehtnxv.jpeg?q=70 - as ./images\\iphone_14_mini\n",
      "SUCCESS - saved https://rukminim1.flixcart.com/image/312/312/kg8avm80/mobile/n/p/d/apple-iphone-12-mini-dummyapplefsn-original-imafwgbfwkfrerak.jpeg?q=70 - as ./images\\iphone_14_mini\n",
      "SUCCESS - saved https://rukminim1.flixcart.com/image/312/312/kg8avm80/mobile/n/2/u/apple-iphone-12-mini-dummyapplefsn-original-imafwgbfxuhswfgj.jpeg?q=70 - as ./images\\iphone_14_mini\n"
     ]
    }
   ],
   "source": [
    "DRIVER_PATH = r'./chromedriver.exe'\n",
    "search_term = 'iphone 14 mini'\n",
    "# num of images you can pass it from here  by default it's 10 if you are not passing\n",
    "#number_images = 50\n",
    "search_and_download(search_term=search_term, driver_path=DRIVER_PATH, number_images=100)"
   ]
  },
  {
   "cell_type": "code",
   "execution_count": null,
   "id": "433a08fc",
   "metadata": {},
   "outputs": [],
   "source": []
  }
 ],
 "metadata": {
  "kernelspec": {
   "display_name": "Python 3 (ipykernel)",
   "language": "python",
   "name": "python3"
  },
  "language_info": {
   "codemirror_mode": {
    "name": "ipython",
    "version": 3
   },
   "file_extension": ".py",
   "mimetype": "text/x-python",
   "name": "python",
   "nbconvert_exporter": "python",
   "pygments_lexer": "ipython3",
   "version": "3.9.12"
  }
 },
 "nbformat": 4,
 "nbformat_minor": 5
}
